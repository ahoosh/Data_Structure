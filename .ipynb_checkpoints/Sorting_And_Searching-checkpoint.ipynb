{
 "cells": [
  {
   "cell_type": "code",
   "execution_count": 8,
   "metadata": {
    "collapsed": false
   },
   "outputs": [
    {
     "data": {
      "text/plain": [
       "[1, 2, 3, 4, 5, 6, 7]"
      ]
     },
     "execution_count": 8,
     "metadata": {},
     "output_type": "execute_result"
    }
   ],
   "source": [
    "'''he bubble sort makes multiple passes through a list. It compares adjacent \n",
    "items and ex- changes those that are out of order. Each pass through the list \n",
    "places the next largest value in its proper place. In essence, each item \n",
    "“bubbles” up to the location where it belongs.'''\n",
    "def bubble_sort(lst): # O(n^2) time, O(1) space\n",
    "    n = len(lst)\n",
    "    for i in range(n - 1, 0, -1):\n",
    "        for j in range(i):\n",
    "            if lst[j] > lst[j + 1]:\n",
    "                temp = lst[j]\n",
    "                lst[j] = lst[j + 1]\n",
    "                lst[j + 1] = temp\n",
    "    return lst\n",
    "test = [7, 6, 5, 4, 3, 2, 1]\n",
    "bubble_sort(test)"
   ]
  },
  {
   "cell_type": "code",
   "execution_count": 9,
   "metadata": {
    "collapsed": false
   },
   "outputs": [
    {
     "data": {
      "text/plain": [
       "[1, 2, 3, 4, 5, 6, 7]"
      ]
     },
     "execution_count": 9,
     "metadata": {},
     "output_type": "execute_result"
    }
   ],
   "source": [
    "'''The selection sort improves on the bubble sort by making only one exchange \n",
    "for every pass through the list. In order to do this, a selection sort looks \n",
    "for the largest value as it makes a pass and, after completing the pass, places \n",
    "it in the proper location. As with a bubble sort, after the first pass, the \n",
    "largest item is in the correct place. After the second pass, the next largest \n",
    "is in place. This process continues and requires n  1 passes to sort n items, \n",
    "since the final item must be in place after the (n  1)st pass.'''\n",
    "def selection_sort(lst): # O(n^2) time, O(1) space\n",
    "    n = len(lst)\n",
    "    for i in range(n - 1, 0, -1):\n",
    "        for j in range(i):\n",
    "            if lst[j] > lst[i]:\n",
    "                temp = lst[j]\n",
    "                lst[j] = lst[i]\n",
    "                lst[i] = temp\n",
    "    return(lst)\n",
    "test = [7, 6, 5, 4, 3, 2, 1]\n",
    "selection_sort(test)"
   ]
  },
  {
   "cell_type": "code",
   "execution_count": 11,
   "metadata": {
    "collapsed": false
   },
   "outputs": [
    {
     "data": {
      "text/plain": [
       "[1, 2, 3, 4, 5, 6, 7]"
      ]
     },
     "execution_count": 11,
     "metadata": {},
     "output_type": "execute_result"
    }
   ],
   "source": [
    "''' The insertion sort, although still O(n2), works in a slightly different \n",
    "way. It always maintains a sorted sublist in the lower positions of the list. \n",
    "Each new item is then “inserted” back into the previous sublist such that the \n",
    "sorted sublist is one item larger. '''\n",
    "def insertion_sort(lst): # O(n^2) time, O(1) space\n",
    "    n = len(lst)\n",
    "    for i in range(1,n):\n",
    "        current = lst[i]\n",
    "        pos = i\n",
    "        while pos > 0 and current < lst[pos - 1]:\n",
    "            lst[pos] = lst[pos - 1]\n",
    "            pos -= 1\n",
    "        lst[pos] = current\n",
    "    return lst\n",
    "test = [7, 6, 5, 4, 3, 2, 1]\n",
    "insertion_sort(test)       "
   ]
  },
  {
   "cell_type": "code",
   "execution_count": 13,
   "metadata": {
    "collapsed": false
   },
   "outputs": [
    {
     "name": "stdout",
     "output_type": "stream",
     "text": [
      "After increments of size 4 The list is [20, 26, 93, 17, 54, 31, 44, 55, 77]\n",
      "After increments of size 4 The list is [20, 26, 93, 17, 54, 31, 44, 55, 77]\n",
      "After increments of size 4 The list is [20, 26, 44, 17, 54, 31, 93, 55, 77]\n",
      "After increments of size 4 The list is [20, 26, 44, 17, 54, 31, 93, 55, 77]\n",
      "After increments of size 2 The list is [20, 26, 44, 17, 54, 31, 77, 55, 93]\n",
      "After increments of size 2 The list is [20, 17, 44, 26, 54, 31, 77, 55, 93]\n",
      "After increments of size 1 The list is [17, 20, 26, 31, 44, 54, 55, 77, 93]\n"
     ]
    },
    {
     "data": {
      "text/plain": [
       "[17, 20, 26, 31, 44, 54, 55, 77, 93]"
      ]
     },
     "execution_count": 13,
     "metadata": {},
     "output_type": "execute_result"
    }
   ],
   "source": [
    "'''The shell sort, sometimes called the “diminishing increment sort,” improves \n",
    "on the insertion sort by breaking the original list into a number of smaller \n",
    "sublists, each of which is sorted using an insertion sort. The unique way that \n",
    "these sublists are chosen is the key to the shell sort. Instead of breaking the \n",
    "list into sublists of contiguous items, the shell sort uses an increment i, \n",
    "sometimes called the gap, to create a sublist by choosing all items that are i \n",
    "items apart.'''    \n",
    "def shell_sort(a_list):\n",
    "    sublist_count = len(a_list) // 2\n",
    "    while sublist_count > 0:\n",
    "        for start_position in range(sublist_count):\n",
    "            gap_insertion_sort(a_list, start_position, sublist_count)\n",
    "            print(\"After increments of size\", sublist_count, \"The list is\",a_list)\n",
    "        sublist_count = sublist_count // 2\n",
    "    return(a_list)\n",
    "def gap_insertion_sort(a_list, start, gap):\n",
    "    for i in range(start + gap, len(a_list), gap):\n",
    "        current_value = a_list[i]\n",
    "        position = i\n",
    "        while position >= gap and a_list[position - gap] > current_value:\n",
    "            a_list[position] = a_list[position - gap]\n",
    "            position = position - gap\n",
    "        a_list[position] = current_value\n",
    "a_list = [54, 26, 93, 17, 77, 31, 44, 55, 20]\n",
    "shell_sort(a_list)"
   ]
  },
  {
   "cell_type": "code",
   "execution_count": 19,
   "metadata": {
    "collapsed": false
   },
   "outputs": [
    {
     "data": {
      "text/plain": [
       "[1, 2, 3, 4, 5, 6, 7]"
      ]
     },
     "execution_count": 19,
     "metadata": {},
     "output_type": "execute_result"
    }
   ],
   "source": [
    "'''Merge sort is a recursive algorithm that continually splits a list in half. \n",
    "If the list is empty or has one item, it is sorted by definition (the base \n",
    "case). If the list has more than one item, we split the list and recursively \n",
    "invoke a merge sort on both halves. Once the two halves are sorted, the \n",
    "fundamental operation, called a merge, is performed. Merging is the process of \n",
    "taking two smaller sorted lists and combining them together into a single, \n",
    "sorted, new list. Figure 5.22 shows our familiar example list as it is being \n",
    "split by merge_sort. '''\n",
    "def merge_sort(lst):\n",
    "    n = len(lst)\n",
    "    if n > 1:\n",
    "        mid = n // 2\n",
    "        left_sorted = merge_sort(lst[:mid])\n",
    "        right_sorted = merge_sort(lst[mid:])\n",
    "        i = j = k = 0\n",
    "        while i < len(left_sorted) and j < len(right_sorted):\n",
    "            if left_sorted[i] <= right_sorted[j]:\n",
    "                lst[k] = left_sorted[i]\n",
    "                i += 1\n",
    "            else:\n",
    "                lst[k] = right_sorted[j]\n",
    "                j += 1\n",
    "            k += 1\n",
    "        while i < len(left_sorted):\n",
    "            lst[k] = left_sorted[i]\n",
    "            i += 1\n",
    "            k += 1\n",
    "        while j < len(right_sorted):\n",
    "            lst[k] = right_sorted[j]\n",
    "            j += 1\n",
    "            k += 1\n",
    "    return lst\n",
    "test = [7, 6, 5, 4, 3, 2, 1]\n",
    "merge_sort(test)"
   ]
  },
  {
   "cell_type": "code",
   "execution_count": null,
   "metadata": {
    "collapsed": true
   },
   "outputs": [],
   "source": [
    "'''The quick sort uses divide and conquer to gain the same advantages as the \n",
    "merge sort, while not using additional storage. As a trade-off, however, it is \n",
    "possible that the list may not be divided in half. When this happens, we will \n",
    "see that performance is diminished.\n",
    "\n",
    "A quick sort first selects a value, which is called the pivot value. Although \n",
    "there are many different ways to choose the pivot value, we will simply use the \n",
    "first item in the list. The role of the pivot value is to assist with splitting \n",
    "the list. The actual position where the pivot value belongs in the final sorted \n",
    "list, commonly called the split point, will be used to divide the list for \n",
    "subsequent calls to the quick sort.'''\n",
    "def quick_sort(a_list): # O(n log(n)) --> O(n^2) []\n",
    "    quick_sort_helper(a_list, 0, len(a_list) - 1)\n",
    "    return a_list\n",
    "def quick_sort_helper(a_list, first, last):\n",
    "    if first < last:\n",
    "        split_point = partition(a_list, first, last)\n",
    "        quick_sort_helper(a_list, first, split_point - 1)\n",
    "        quick_sort_helper(a_list, split_point + 1, last)\n",
    "def partition(a_list, first, last):\n",
    "    pivot_value = a_list[first]\n",
    "    left_mark = first + 1\n",
    "    right_mark = last\n",
    "    done = False\n",
    "    while not done:\n",
    "        while left_mark <= right_mark and a_list[left_mark] <= pivot_value:\n",
    "            left_mark = left_mark + 1\n",
    "        while a_list[right_mark] >= pivot_value and right_mark >= left_mark:\n",
    "            right_mark = right_mark - 1\n",
    "        if right_mark < left_mark:\n",
    "            done = True\n",
    "        else:\n",
    "            temp = a_list[left_mark]\n",
    "            a_list[left_mark] = a_list[right_mark]\n",
    "            a_list[right_mark] = temp\n",
    "    temp = a_list[first]\n",
    "    a_list[first] = a_list[right_mark]\n",
    "    a_list[right_mark] = temp\n",
    "    return right_mark\n",
    "test = [7, 6, 5, 4, 3, 2, 1]\n",
    "quick_sort(test)"
   ]
  },
  {
   "cell_type": "code",
   "execution_count": 48,
   "metadata": {
    "collapsed": false
   },
   "outputs": [
    {
     "data": {
      "text/plain": [
       "'01233468FGHJads'"
      ]
     },
     "execution_count": 48,
     "metadata": {},
     "output_type": "execute_result"
    }
   ],
   "source": [
    "def counting_sort(lst):# O(n): Should be all positive integers, \n",
    "    n = len(lst)\n",
    "    k = lst[0]\n",
    "    for i in range(1,n): # determine the max\n",
    "        if lst[i] > k:\n",
    "            k = lst[i]\n",
    "    counter = [0] * (k + 1)\n",
    "    for i in lst:\n",
    "        counter[i] += 1\n",
    "    index = 0\n",
    "    for i in range(len(counter)):\n",
    "        while counter[i] > 0:\n",
    "            lst[index] = i\n",
    "            counter[i] -= 1\n",
    "            index += 1\n",
    "    return lst\n",
    "def counting_sort_string(s):\n",
    "    n = len(s)\n",
    "    counter = [0] * 256\n",
    "    output = [\"\" for _ in s]\n",
    "    for char in s:\n",
    "        counter[ord(char)] += 1\n",
    "    index = 0\n",
    "    for i in range(len(counter)):\n",
    "        while counter[i] > 0:\n",
    "            output[index] = chr(i)\n",
    "            index += 1\n",
    "            counter[i] -= 1\n",
    "    return \"\".join(output)\n",
    "    \n",
    "test = [7, 6, 5, 4, 3, 2, 1]\n",
    "counting_sort(test) \n",
    "counting_sort_string(\"12360834asdJGFH\")"
   ]
  },
  {
   "cell_type": "code",
   "execution_count": 81,
   "metadata": {
    "collapsed": false
   },
   "outputs": [
    {
     "data": {
      "text/plain": [
       "[-10.4, -0.5, 4.3, 6, 74]"
      ]
     },
     "execution_count": 81,
     "metadata": {},
     "output_type": "execute_result"
    }
   ],
   "source": [
    "def bucket_sort( A ):\n",
    "    # get hash codes\n",
    "    code = hashing( A )\n",
    "    buckets = [list() for _ in range( code[1] )]\n",
    "    # distribute data into buckets: O(n)\n",
    "    for i in A:\n",
    "        x = re_hashing( i, code )\n",
    "        buck = buckets[x]\n",
    "        buck.append( i )\n",
    "\n",
    " \n",
    "    for bucket in buckets:\n",
    "        insertion_sort( bucket )\n",
    "    ndx = 0\n",
    "    for b in range( len( buckets ) ):\n",
    "        for v in buckets[b]:\n",
    "            A[ndx] = v\n",
    "            ndx += 1\n",
    "    return A\n",
    "\n",
    "import math\n",
    " \n",
    "def hashing( A ):\n",
    "    minimum = A[0]\n",
    "    maximum = A[0]\n",
    "    for i in range( 1, len( A ) ):\n",
    "        if ( maximum < A[i] ):\n",
    "            maximum = A[i]\n",
    "        if minimum > A[i]:\n",
    "            minimum = A[i]\n",
    "    result = [minimum, maximum, int( math.sqrt( len(A) ) )]\n",
    "    return result\n",
    " \n",
    "def re_hashing( i, code ):\n",
    "    num = (i - code[0])/(code[1] - code[0])\n",
    "    if num == 1:\n",
    "        return code[2] - 1\n",
    "    else:\n",
    "        return int(num*code[2])\n",
    "test = [-0.5, 6, 4.3, -10.4, 74]\n",
    "bucket_sort(test)"
   ]
  },
  {
   "cell_type": "code",
   "execution_count": 93,
   "metadata": {
    "collapsed": false
   },
   "outputs": [
    {
     "data": {
      "text/plain": [
       "[1, 4, 6, 25, 65, 450, 21000]"
      ]
     },
     "execution_count": 93,
     "metadata": {},
     "output_type": "execute_result"
    }
   ],
   "source": [
    "def radix_sort( aList ): # O(kn) where k is the max length of integers\n",
    "    RADIX = 10\n",
    "    maxLength = False\n",
    "    tmp , placement = -1, 1\n",
    " \n",
    "    while not maxLength:\n",
    "        maxLength = True\n",
    "        # declare and initialize buckets\n",
    "        buckets = [list() for _ in range( RADIX )]\n",
    " \n",
    "        # split aList between lists\n",
    "        for  i in aList:\n",
    "            tmp = int(i / placement)\n",
    "            buckets[tmp % RADIX].append( i )\n",
    "            if maxLength and tmp > 0:\n",
    "                maxLength = False\n",
    " \n",
    "        # empty lists into aList array\n",
    "        a = 0\n",
    "        for b in range( RADIX ):\n",
    "            buck = buckets[b]\n",
    "            for i in buck:\n",
    "                aList[a] = i\n",
    "                a += 1\n",
    "        # move to next digit\n",
    "        placement *= RADIX\n",
    "    return aList\n",
    "radix_sort([450,6,1,65,21000,4,25])"
   ]
  },
  {
   "cell_type": "code",
   "execution_count": 100,
   "metadata": {
    "collapsed": false
   },
   "outputs": [
    {
     "data": {
      "text/plain": [
       "4"
      ]
     },
     "execution_count": 100,
     "metadata": {},
     "output_type": "execute_result"
    }
   ],
   "source": [
    "def binary_search(lst, val):\n",
    "    low = 0\n",
    "    high = len(lst) - 1\n",
    "    while low <= high:\n",
    "        mid = (low + high) // 2\n",
    "        if val > lst[mid]:\n",
    "            low = mid + 1\n",
    "        elif val < lst[mid]:\n",
    "            high = mid - 1\n",
    "        else:\n",
    "            return mid\n",
    "    return -1\n",
    "binary_search([1, 3, 5, 9, 11, 19], 11)"
   ]
  },
  {
   "cell_type": "markdown",
   "metadata": {
    "collapsed": false
   },
   "source": [
    "Q1: You have two sorted arrays A and B where A has a large enough buffer at the end to hold B. Weite an algorithm to merge B into A"
   ]
  },
  {
   "cell_type": "code",
   "execution_count": 82,
   "metadata": {
    "collapsed": false
   },
   "outputs": [
    {
     "data": {
      "text/plain": [
       "[-3, 1, 2, 3, 4, 4, 5, 6, 7, 10]"
      ]
     },
     "execution_count": 82,
     "metadata": {},
     "output_type": "execute_result"
    }
   ],
   "source": [
    "def merge_smaller_sorted_to_large_sroted_with_buffer(A_big, B_small):\n",
    "    n_B = len(B_small)\n",
    "    n_A = len(A_big) - n_B\n",
    "    for i in range(n_B):\n",
    "        current = B_small[i]\n",
    "        pos = n_A + i\n",
    "        while pos > 0 and current < A_big[pos - 1]:\n",
    "            A_big[pos] = A_big[pos - 1]\n",
    "            pos -= 1\n",
    "        A_big[pos] = current\n",
    "    return(A_big)\n",
    "merge_smaller_sorted_to_large_sroted_with_buffer([1,2,3,4,5,6,0,0,0,0],[-3, 4, 7, 10])\n",
    "        "
   ]
  },
  {
   "cell_type": "markdown",
   "metadata": {},
   "source": [
    "Q2: Write an algorithm to take an array of strings so that all anagrams sit next to each other"
   ]
  },
  {
   "cell_type": "markdown",
   "metadata": {},
   "source": [
    "Q3: Having a rotated sorted array, write code to write the index of an element in the list"
   ]
  },
  {
   "cell_type": "markdown",
   "metadata": {},
   "source": [
    "Q5: Given a sorted array of strings which contains empty strings, find a method to find the location of a given string. example: [\"ali\", \"\", \"\", \"\", \"\", \"abbas\", \"\", \"\"]... \"abbas\" is at 5"
   ]
  },
  {
   "cell_type": "markdown",
   "metadata": {},
   "source": [
    "Q6: Given an M x N matrix in which ech row and column is sorted in ascending order, write a method to find an element."
   ]
  },
  {
   "cell_type": "markdown",
   "metadata": {},
   "source": [
    "Q7: Having a list of tow numbers (height and weight), find the longest ordered sequence so that weight and height are ascending"
   ]
  },
  {
   "cell_type": "markdown",
   "metadata": {},
   "source": [
    "Q8: You are reading a stream of integers and you want to periodically look up the rank of the number. Implement the algorithm and data sctructure to handle this (Use binary search trees)"
   ]
  }
 ],
 "metadata": {
  "anaconda-cloud": {},
  "kernelspec": {
   "display_name": "Python [conda root]",
   "language": "python",
   "name": "conda-root-py"
  },
  "language_info": {
   "codemirror_mode": {
    "name": "ipython",
    "version": 3
   },
   "file_extension": ".py",
   "mimetype": "text/x-python",
   "name": "python",
   "nbconvert_exporter": "python",
   "pygments_lexer": "ipython3",
   "version": "3.5.2"
  }
 },
 "nbformat": 4,
 "nbformat_minor": 1
}
