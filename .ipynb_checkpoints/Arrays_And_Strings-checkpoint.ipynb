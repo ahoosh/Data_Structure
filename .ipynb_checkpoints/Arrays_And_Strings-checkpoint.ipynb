{
 "cells": [
  {
   "cell_type": "markdown",
   "metadata": {},
   "source": [
    "# Sample Questions for strings and arrays"
   ]
  },
  {
   "cell_type": "markdown",
   "metadata": {},
   "source": [
    "Q1: Implement and algorithm to determine if a string has all unique characters. What if you cannot use additional space? (CIC)"
   ]
  },
  {
   "cell_type": "code",
   "execution_count": 35,
   "metadata": {
    "collapsed": false
   },
   "outputs": [
    {
     "name": "stdout",
     "output_type": "stream",
     "text": [
      "Set1: 0.8843819859903306\n",
      "Set2: 1.4786775239626877\n",
      "dic: 1.793653920001816\n",
      "O1Space: 5.290229269012343\n"
     ]
    }
   ],
   "source": [
    "# Last modification: 05/04/2017\n",
    "import timeit\n",
    "def unique_characters(s, method = \"set1\"):\n",
    "    n = len(s)\n",
    "    if n > 256: #ASCII characters\n",
    "        return False\n",
    "    if method == \"set1\": #\n",
    "        return len(set(s)) == n\n",
    "    elif method == \"set2\":\n",
    "        result = set()\n",
    "        for ch in s:\n",
    "            if ch in result:\n",
    "                return False\n",
    "            result.add(ch)\n",
    "        return True\n",
    "    elif method == \"dic\":\n",
    "        result = {}\n",
    "        for ch in s:\n",
    "            if ch in result.keys():\n",
    "                return False\n",
    "            else:\n",
    "                result[ch] = 1\n",
    "        return True\n",
    "    elif method == \"O1Space\":\n",
    "        for i in range(n):\n",
    "            for j in range(i+1,n):\n",
    "                if s[i] == s[j]:\n",
    "                    return False\n",
    "        return True\n",
    "a_string = \"abcdefg\"\n",
    "print(\"Set1:\", min(timeit.repeat(lambda: unique_characters(a_string, method = \"set1\"))))\n",
    "print(\"Set2:\", min(timeit.repeat(lambda: unique_characters(a_string, method = \"set2\"))))\n",
    "print(\"dic:\", min(timeit.repeat(lambda: unique_characters(a_string, method = \"dic\"))))\n",
    "print(\"O1Space:\", min(timeit.repeat(lambda: unique_characters(a_string, method = \"O1Space\"))))"
   ]
  },
  {
   "cell_type": "markdown",
   "metadata": {
    "collapsed": true
   },
   "source": [
    "Q2: Implement a function that reverses a string (CIC)"
   ]
  },
  {
   "cell_type": "code",
   "execution_count": 33,
   "metadata": {
    "collapsed": false
   },
   "outputs": [
    {
     "name": "stdout",
     "output_type": "stream",
     "text": [
      "StringSlow: 1.1227399740018882\n",
      "ListFast: 1.5873763110139407\n",
      "LazyAss 0.39658338302979246\n"
     ]
    }
   ],
   "source": [
    "# Last modification: 05/04/2017\n",
    "# It's not possible to change characters ina string in place\n",
    "import timeit\n",
    "def reverse_string(s, method = \"StringSlow\"):\n",
    "    n = len(s)\n",
    "    if method == \"StringSlow\":\n",
    "        result = \"\"\n",
    "        for i in range(n - 1, -1, -1):\n",
    "            result += s[i]\n",
    "        return result\n",
    "    elif method == \"ListFast\":\n",
    "        result = []\n",
    "        for i in range(n - 1, -1, -1):\n",
    "            result.append(s[i])\n",
    "        return \"\".join(result)\n",
    "    elif method == \"LazyAss\":\n",
    "        return s[::-1]\n",
    "a_string = \"abcde\"\n",
    "print(\"StringSlow:\", min(timeit.repeat(lambda: reverse_string(a_string, method = \"StringSlow\"))))\n",
    "print(\"ListFast:\", min(timeit.repeat(lambda: reverse_string(a_string, method = \"ListFast\"))))\n",
    "print(\"LazyAss\", min(timeit.repeat(lambda: reverse_string(a_string, method = \"LazyAss\"))))"
   ]
  },
  {
   "cell_type": "markdown",
   "metadata": {},
   "source": [
    "Q3: Given two strings, write a method todecide if one is permutation of the other one (CIC)"
   ]
  },
  {
   "cell_type": "code",
   "execution_count": null,
   "metadata": {
    "collapsed": false,
    "scrolled": true
   },
   "outputs": [],
   "source": [
    "# Last modification: 05/04/2017\n",
    "import timeit\n",
    "def if_two_words_are_permutations(s1, s2):\n",
    "    if len(s1) != len(s2):\n",
    "        return False\n",
    "    dic = {}\n",
    "    for ch in s1:\n",
    "        if ch in dic.keys()\n",
    "            dic[ch] += 1\n",
    "        else:\n",
    "            dic[ch] = 1\n",
    "    for ch in s2:\n",
    "        if not ch in dic.keys():\n",
    "            return False\n",
    "        elif dic[ch] == 0:\n",
    "            return False\n",
    "        else:\n",
    "            dic[ch] -= 1\n",
    "    return True\n",
    "a1_string = \"abcdef\"\n",
    "a2_string = \"feabcd\"\n",
    "print(\"StringSlow:\", min(timeit.repeat(lambda: if_two_words_are_permutations(a1_string, a2_string))))      "
   ]
  },
  {
   "cell_type": "markdown",
   "metadata": {},
   "source": [
    "Q4: Change the white spaces with '%20'."
   ]
  },
  {
   "cell_type": "code",
   "execution_count": 14,
   "metadata": {
    "collapsed": false
   },
   "outputs": [
    {
     "name": "stdout",
     "output_type": "stream",
     "text": [
      "Time taken: 2.6245151690091006\n"
     ]
    },
    {
     "data": {
      "text/plain": [
       "'Mr%20John%20Smith'"
      ]
     },
     "execution_count": 14,
     "metadata": {},
     "output_type": "execute_result"
    }
   ],
   "source": [
    "# Last modification: 05/04/2017\n",
    "import timeit\n",
    "def fill_white_space(s, filler = \"%20\"):\n",
    "    result = \"\"\n",
    "    in_space = False\n",
    "    for ch in s:\n",
    "        if ch != \" \":\n",
    "            if in_space == True:\n",
    "                result += filler\n",
    "                in_space = False\n",
    "            result += ch\n",
    "        else:\n",
    "            in_space = True\n",
    "    if s[0] == \" \":\n",
    "        result = result[len(filler):]\n",
    "    return result\n",
    "a_string = \"   Mr John    Smith   \"\n",
    "fill_white_space(\"   Mr John    Smith   \")\n",
    "print(\"Time taken:\", min(timeit.repeat(lambda: fill_white_space(a_string))))  "
   ]
  },
  {
   "cell_type": "markdown",
   "metadata": {},
   "source": [
    "Q5: Implement a method that does basic string compression and returns the compressed string if it is actually smaller"
   ]
  },
  {
   "cell_type": "code",
   "execution_count": 22,
   "metadata": {
    "collapsed": false
   },
   "outputs": [
    {
     "name": "stdout",
     "output_type": "stream",
     "text": [
      "Time taken: 3.693453829968348\n"
     ]
    }
   ],
   "source": [
    "# Last modificartion: 05/04/2017\n",
    "import timeit\n",
    "def string_compressor(s):\n",
    "    if len(s) <= 1:\n",
    "        return s\n",
    "    result = \"\"\n",
    "    current_char = s[0]\n",
    "    num = 1\n",
    "    for i in range(1,len(s) - 1):\n",
    "        if s[i] == current_char:\n",
    "            num += 1\n",
    "        else:\n",
    "            result += current_char + str(num)\n",
    "            current_char = s[i]\n",
    "            num = 1\n",
    "    result += current_char + str(num)\n",
    "    if len(result) < len(s):\n",
    "        return(result)\n",
    "    else:\n",
    "        return(s)\n",
    "string_compressor(\"aabccccccddeeee\")\n",
    "print(\"Time taken:\", min(timeit.repeat(lambda: string_compressor(\"aabccccccddeeee\"))))  "
   ]
  }
 ],
 "metadata": {
  "anaconda-cloud": {},
  "kernelspec": {
   "display_name": "Python [conda root]",
   "language": "python",
   "name": "conda-root-py"
  }
 },
 "nbformat": 4,
 "nbformat_minor": 1
}
