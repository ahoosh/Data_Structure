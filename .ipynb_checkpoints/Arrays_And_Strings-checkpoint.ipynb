{
 "cells": [
  {
   "cell_type": "markdown",
   "metadata": {},
   "source": [
    "# Sample Questions for strings and arrays"
   ]
  },
  {
   "cell_type": "markdown",
   "metadata": {},
   "source": [
    "Q1: Implement and algorithm to determine if a string has all unique characters. What if you cannot use additional space? (CIC)"
   ]
  },
  {
   "cell_type": "code",
   "execution_count": 35,
   "metadata": {
    "collapsed": false
   },
   "outputs": [
    {
     "name": "stdout",
     "output_type": "stream",
     "text": [
      "Set1: 0.8843819859903306\n",
      "Set2: 1.4786775239626877\n",
      "dic: 1.793653920001816\n",
      "O1Space: 5.290229269012343\n"
     ]
    }
   ],
   "source": [
    "# Last modification: 05/04/2017\n",
    "import timeit\n",
    "def unique_characters(s, method = \"set1\"):\n",
    "    n = len(s)\n",
    "    if n > 256: #ASCII characters\n",
    "        return False\n",
    "    if method == \"set1\": #\n",
    "        return len(set(s)) == n\n",
    "    elif method == \"set2\":\n",
    "        result = set()\n",
    "        for ch in s:\n",
    "            if ch in result:\n",
    "                return False\n",
    "            result.add(ch)\n",
    "        return True\n",
    "    elif method == \"dic\":\n",
    "        result = {}\n",
    "        for ch in s:\n",
    "            if ch in result.keys():\n",
    "                return False\n",
    "            else:\n",
    "                result[ch] = 1\n",
    "        return True\n",
    "    elif method == \"O1Space\":\n",
    "        for i in range(n):\n",
    "            for j in range(i+1,n):\n",
    "                if s[i] == s[j]:\n",
    "                    return False\n",
    "        return True\n",
    "a_string = \"abcdefg\"\n",
    "print(\"Set1:\", min(timeit.repeat(lambda: unique_characters(a_string, method = \"set1\"))))\n",
    "print(\"Set2:\", min(timeit.repeat(lambda: unique_characters(a_string, method = \"set2\"))))\n",
    "print(\"dic:\", min(timeit.repeat(lambda: unique_characters(a_string, method = \"dic\"))))\n",
    "print(\"O1Space:\", min(timeit.repeat(lambda: unique_characters(a_string, method = \"O1Space\"))))"
   ]
  },
  {
   "cell_type": "markdown",
   "metadata": {
    "collapsed": true
   },
   "source": [
    "Q2: Implement a function that reverses a string (CIC)"
   ]
  },
  {
   "cell_type": "code",
   "execution_count": 33,
   "metadata": {
    "collapsed": false
   },
   "outputs": [
    {
     "name": "stdout",
     "output_type": "stream",
     "text": [
      "StringSlow: 1.1227399740018882\n",
      "ListFast: 1.5873763110139407\n",
      "LazyAss 0.39658338302979246\n"
     ]
    }
   ],
   "source": [
    "# Last modification: 05/04/2017\n",
    "# It's not possible to change characters ina string in place\n",
    "import timeit\n",
    "def reverse_string(s, method = \"StringSlow\"):\n",
    "    n = len(s)\n",
    "    if method == \"StringSlow\":\n",
    "        result = \"\"\n",
    "        for i in range(n - 1, -1, -1):\n",
    "            result += s[i]\n",
    "        return result\n",
    "    elif method == \"ListFast\":\n",
    "        result = []\n",
    "        for i in range(n - 1, -1, -1):\n",
    "            result.append(s[i])\n",
    "        return \"\".join(result)\n",
    "    elif method == \"LazyAss\":\n",
    "        return s[::-1]\n",
    "a_string = \"abcde\"\n",
    "print(\"StringSlow:\", min(timeit.repeat(lambda: reverse_string(a_string, method = \"StringSlow\"))))\n",
    "print(\"ListFast:\", min(timeit.repeat(lambda: reverse_string(a_string, method = \"ListFast\"))))\n",
    "print(\"LazyAss\", min(timeit.repeat(lambda: reverse_string(a_string, method = \"LazyAss\"))))"
   ]
  },
  {
   "cell_type": "markdown",
   "metadata": {},
   "source": [
    "Q3: Given two strings, write a method todecide if one is permutation of the other one (CIC)"
   ]
  },
  {
   "cell_type": "code",
   "execution_count": null,
   "metadata": {
    "collapsed": false,
    "scrolled": true
   },
   "outputs": [],
   "source": [
    "# Last modification: 05/04/2017\n",
    "import timeit\n",
    "def if_two_words_are_permutations(s1, s2):\n",
    "    if len(s1) != len(s2):\n",
    "        return False\n",
    "    dic = {}\n",
    "    for ch in s1:\n",
    "        if ch in dic.keys()\n",
    "            dic[ch] += 1\n",
    "        else:\n",
    "            dic[ch] = 1\n",
    "    for ch in s2:\n",
    "        if not ch in dic.keys():\n",
    "            return False\n",
    "        elif dic[ch] == 0:\n",
    "            return False\n",
    "        else:\n",
    "            dic[ch] -= 1\n",
    "    return True\n",
    "a1_string = \"abcdef\"\n",
    "a2_string = \"feabcd\"\n",
    "print(\"StringSlow:\", min(timeit.repeat(lambda: if_two_words_are_permutations(a1_string, a2_string))))      "
   ]
  },
  {
   "cell_type": "markdown",
   "metadata": {},
   "source": [
    "Q4: Change the white spaces with '%20'."
   ]
  },
  {
   "cell_type": "code",
   "execution_count": 14,
   "metadata": {
    "collapsed": false
   },
   "outputs": [
    {
     "name": "stdout",
     "output_type": "stream",
     "text": [
      "Time taken: 2.6245151690091006\n"
     ]
    },
    {
     "data": {
      "text/plain": [
       "'Mr%20John%20Smith'"
      ]
     },
     "execution_count": 14,
     "metadata": {},
     "output_type": "execute_result"
    }
   ],
   "source": [
    "# Last modification: 05/04/2017\n",
    "import timeit\n",
    "def fill_white_space(s, filler = \"%20\"):\n",
    "    result = \"\"\n",
    "    in_space = False\n",
    "    for ch in s:\n",
    "        if ch != \" \":\n",
    "            if in_space == True:\n",
    "                result += filler\n",
    "                in_space = False\n",
    "            result += ch\n",
    "        else:\n",
    "            in_space = True\n",
    "    if s[0] == \" \":\n",
    "        result = result[len(filler):]\n",
    "    return result\n",
    "a_string = \"   Mr John    Smith   \"\n",
    "fill_white_space(\"   Mr John    Smith   \")\n",
    "print(\"Time taken:\", min(timeit.repeat(lambda: fill_white_space(a_string))))  "
   ]
  },
  {
   "cell_type": "markdown",
   "metadata": {},
   "source": [
    "Q5: Implement a method that does basic string compression and returns the compressed string if it is actually smaller"
   ]
  },
  {
   "cell_type": "code",
   "execution_count": 22,
   "metadata": {
    "collapsed": false
   },
   "outputs": [
    {
     "name": "stdout",
     "output_type": "stream",
     "text": [
      "Time taken: 3.693453829968348\n"
     ]
    }
   ],
   "source": [
    "# Last modificartion: 05/04/2017\n",
    "import timeit\n",
    "def string_compressor(s):\n",
    "    if len(s) <= 1:\n",
    "        return s\n",
    "    result = \"\"\n",
    "    current_char = s[0]\n",
    "    num = 1\n",
    "    for i in range(1,len(s) - 1):\n",
    "        if s[i] == current_char:\n",
    "            num += 1\n",
    "        else:\n",
    "            result += current_char + str(num)\n",
    "            current_char = s[i]\n",
    "            num = 1\n",
    "    result += current_char + str(num)\n",
    "    if len(result) < len(s):\n",
    "        return(result)\n",
    "    else:\n",
    "        return(s)\n",
    "string_compressor(\"aabccccccddeeee\")\n",
    "print(\"Time taken:\", min(timeit.repeat(lambda: string_compressor(\"aabccccccddeeee\"))))  "
   ]
  },
  {
   "cell_type": "markdown",
   "metadata": {},
   "source": [
    "Q6: Given an image representetated by an $N\\times N$ matrix,where each pixel in the image is 4 bytes, write a method to rotate the image by 90 degrees in place."
   ]
  },
  {
   "cell_type": "code",
   "execution_count": 17,
   "metadata": {
    "collapsed": false
   },
   "outputs": [
    {
     "name": "stdout",
     "output_type": "stream",
     "text": [
      "Original matrix:\n",
      " [[ 1  2  3  4]\n",
      " [ 5  6  7  8]\n",
      " [ 9 10 11 12]\n",
      " [13 14 15 16]]\n",
      "Rotated matrix:\n",
      " [[13  9  5  1]\n",
      " [14 10  6  2]\n",
      " [15 11  7  3]\n",
      " [16 12  8  4]]\n"
     ]
    }
   ],
   "source": [
    "# Last modification: 05/05/2017\n",
    "# has not been completed yet\n",
    "import timeit\n",
    "import numpy as np\n",
    "import copy # You have to use a deep copy \n",
    "def image_rotation(mat):\n",
    "    n = mat.shape[0]\n",
    "    for i in range(n // 2):\n",
    "        temp = copy.copy(mat[i, i : n-1-i]) # top to temp\n",
    "        mat[i, i : n-1-i] = mat[range(n - 1 - i, i, -1), i] # left to top\n",
    "        mat[i + 1 : n - i, i] = mat[n - 1 - i, i + 1: n - i]# bottom to left\n",
    "        mat[n - 1 - i, i + 1 : n - i] = mat[range(n - 2 - i, i - 1, -1), n - 1 - i]# right to bottom\n",
    "        mat[i : n - 1 - i, n - 1 - i] = temp # old top to right\n",
    "    return mat\n",
    "test = np.array([[1,2,3,4],[5,6,7,8],[9,10,11,12],[13,14,15,16]])\n",
    "print(\"Original matrix:\\n\",test)\n",
    "print(\"Rotated matrix:\\n\", image_rotation(test))"
   ]
  },
  {
   "cell_type": "markdown",
   "metadata": {},
   "source": [
    "Q7: Write an algorithm such that if an element in $M\\times N$ matrix is zero, its entire row and column is set to zero"
   ]
  },
  {
   "cell_type": "code",
   "execution_count": 22,
   "metadata": {
    "collapsed": false
   },
   "outputs": [
    {
     "name": "stdout",
     "output_type": "stream",
     "text": [
      "Time taken: 24.090871107997373\n"
     ]
    }
   ],
   "source": [
    "# Last modification: 05/05/2017\n",
    "import timeit\n",
    "import numpy as np\n",
    "def set_rows_columns_zero(mat):\n",
    "    m, n = mat.shape\n",
    "    rows = []\n",
    "    columns = []\n",
    "    for i in range(m):\n",
    "        for j in range(n):\n",
    "            if mat[i, j] == 0:\n",
    "                rows.append(i)\n",
    "                columns.append(j)\n",
    "    mat[rows, :] = 0\n",
    "    mat[:, columns] = 0\n",
    "    return mat\n",
    "test = np.array([[1,2,3,4,0],[6,7,8,9,10],[0,12,13,14,15],[16,17,18,19,20],[21,22,23,24,25]])\n",
    "print(\"Time taken:\", min(timeit.repeat(lambda: set_rows_columns_zero(test))))  "
   ]
  },
  {
   "cell_type": "markdown",
   "metadata": {},
   "source": [
    "Q8: Assume you have a method isSubstring which checks whether one words is a substring of another. Given two strings s1 and s2, write code to check whether s2 is a rotation of s1 which just one time use of isSubstring."
   ]
  },
  {
   "cell_type": "code",
   "execution_count": 28,
   "metadata": {
    "collapsed": false
   },
   "outputs": [
    {
     "name": "stdout",
     "output_type": "stream",
     "text": [
      "Time taken: 0.4020665190182626\n"
     ]
    }
   ],
   "source": [
    "# Last modification: 05/05/2017\n",
    "# This is the fastet method.\n",
    "import timeit\n",
    "def is_rotated(s1, s2):\n",
    "    if len(s1) != len(s2):\n",
    "        return False\n",
    "    return s2 in s1 + s1\n",
    "s1 = \"waterbottle\"\n",
    "s2 = \"terbottlewa\"\n",
    "is_rotated(s1, s2)\n",
    "print(\"Time taken:\", min(timeit.repeat(lambda: is_rotated(s1, s2))))  "
   ]
  },
  {
   "cell_type": "code",
   "execution_count": null,
   "metadata": {
    "collapsed": true
   },
   "outputs": [],
   "source": []
  }
 ],
 "metadata": {
  "anaconda-cloud": {},
  "kernelspec": {
   "display_name": "Python [conda root]",
   "language": "python",
   "name": "conda-root-py"
  },
  "language_info": {
   "codemirror_mode": {
    "name": "ipython",
    "version": 3
   },
   "file_extension": ".py",
   "mimetype": "text/x-python",
   "name": "python",
   "nbconvert_exporter": "python",
   "pygments_lexer": "ipython3",
   "version": "3.5.2"
  }
 },
 "nbformat": 4,
 "nbformat_minor": 1
}
