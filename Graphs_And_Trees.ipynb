{
 "cells": [
  {
   "cell_type": "code",
   "execution_count": null,
   "metadata": {
    "collapsed": true
   },
   "outputs": [],
   "source": []
  },
  {
   "cell_type": "code",
   "execution_count": 12,
   "metadata": {
    "collapsed": false
   },
   "outputs": [],
   "source": [
    "class Node:\n",
    "    # A utility function to create a new node\n",
    "    def __init__(self ,key):\n",
    "        self.data = key\n",
    "        self.left = None\n",
    "        self.right = None\n",
    "\n",
    "# Inorder (Left, Root, Right) \n",
    "# A function to do inorder tree traversal\n",
    "# with out stack or recursion: http://www.geeksforgeeks.org/?p=6358\n",
    "def printInorder(root, method = \"stack\"):\n",
    "    \n",
    "    if method == \"recursion\":\n",
    "        if root:\n",
    "            # First recur on left child\n",
    "            printInorder(root.left)\n",
    "            # then print the data of node\n",
    "            print(root.val)\n",
    "            # now recur on right child\n",
    "            printInorder(root.right)\n",
    "    \n",
    "    elif method == \"stack\":\n",
    "        done = False\n",
    "        current = root\n",
    "        stack = []\n",
    "        while not done:\n",
    "            if current is not None:\n",
    "                stack.append(current)\n",
    "                current = current.left\n",
    "            else:\n",
    "                if len(stack) > 0:\n",
    "                    current = stack.pop()\n",
    "                    print(current.data)\n",
    "                    current = current.right\n",
    "                else:\n",
    "                    done = True\n",
    "                    \n",
    "            \n",
    "# Preorder (Root, Left, Right)\n",
    "# A function to do postorder tree traversal\n",
    "def printPostorder(root):\n",
    " \n",
    "    if root:\n",
    " \n",
    "        # First recur on left child\n",
    "        printPostorder(root.left)\n",
    " \n",
    "        # the recur on right child\n",
    "        printPostorder(root.right)\n",
    " \n",
    "        # now print the data of node\n",
    "        print(root.val)\n",
    " \n",
    " # Postorder (Left, Right, Root)\n",
    "# A function to do postorder tree traversal\n",
    "def printPreorder(root):\n",
    " \n",
    "    if root:\n",
    " \n",
    "        # First print the data of node\n",
    "        print(root.val),\n",
    " \n",
    "        # Then recur on left child\n",
    "        printPreorder(root.left)\n",
    " \n",
    "        # Finally recur on right child\n",
    "        printPreorder(root.right)\n",
    "        \n",
    "def printLevelOrder(root):\n",
    "    # Base Case\n",
    "    if root is None:\n",
    "        return\n",
    "     \n",
    "    # Create an empty queue for level order traversal\n",
    "    queue = []\n",
    " \n",
    "    # Enqueue Root and initialize height\n",
    "    queue.append(root)\n",
    " \n",
    "    while(len(queue) > 0):\n",
    "        # Print front of queue and remove it from queue\n",
    "        node = queue.pop()\n",
    "        print(node.data)\n",
    " \n",
    "        #Enqueue left child\n",
    "        if node.left is not None:\n",
    "            queue.insert(0, node.left)\n",
    " \n",
    "        # Enqueue right child\n",
    "        if node.right is not None:\n",
    "            queue.insert(0, node.right)\n",
    " \n"
   ]
  },
  {
   "cell_type": "code",
   "execution_count": 13,
   "metadata": {
    "collapsed": false
   },
   "outputs": [
    {
     "name": "stdout",
     "output_type": "stream",
     "text": [
      "Level Order Traversal of binary tree is -\n",
      "1\n",
      "2\n",
      "3\n",
      "4\n",
      "5\n"
     ]
    }
   ],
   "source": [
    "#Driver Program to test above function\n",
    "root = Node(1)\n",
    "root.left = Node(2)\n",
    "root.right = Node(3)\n",
    "root.left.left = Node(4)\n",
    "root.left.right = Node(5)\n",
    " \n",
    "print(\"Level Order Traversal of binary tree is -\")\n",
    "printLevelOrder(root)"
   ]
  }
 ],
 "metadata": {
  "anaconda-cloud": {},
  "kernelspec": {
   "display_name": "Python [conda root]",
   "language": "python",
   "name": "conda-root-py"
  },
  "language_info": {
   "codemirror_mode": {
    "name": "ipython",
    "version": 3
   },
   "file_extension": ".py",
   "mimetype": "text/x-python",
   "name": "python",
   "nbconvert_exporter": "python",
   "pygments_lexer": "ipython3",
   "version": "3.5.2"
  }
 },
 "nbformat": 4,
 "nbformat_minor": 1
}
