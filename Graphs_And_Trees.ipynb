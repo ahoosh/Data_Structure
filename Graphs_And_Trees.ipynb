{
 "cells": [
  {
   "cell_type": "code",
   "execution_count": null,
   "metadata": {
    "collapsed": true
   },
   "outputs": [],
   "source": []
  },
  {
   "cell_type": "code",
   "execution_count": 39,
   "metadata": {
    "collapsed": false
   },
   "outputs": [],
   "source": [
    "class Node:\n",
    "    # A utility function to create a new node\n",
    "    def __init__(self ,key):\n",
    "        self.data = key\n",
    "        self.left = None\n",
    "        self.right = None\n",
    "\n",
    "# Inorder (Left, Root, Right) \n",
    "# with out stack or recursion: http://www.geeksforgeeks.org/?p=6358\n",
    "def printInorder(root, method = \"stack\"):\n",
    "    \n",
    "    if method == \"recursion\":\n",
    "        if root:\n",
    "            printInorder(root.left)\n",
    "            print(root.data)\n",
    "            printInorder(root.right)\n",
    "    \n",
    "    elif method == \"stack\":\n",
    "        done = False\n",
    "        current = root\n",
    "        stack = []\n",
    "        while not done:\n",
    "            if current is not None:\n",
    "                stack.append(current)\n",
    "                current = current.left\n",
    "            else:\n",
    "                if len(stack) > 0:\n",
    "                    current = stack.pop()\n",
    "                    print(current.data)\n",
    "                    current = current.right\n",
    "                else:\n",
    "                    done = True\n",
    "                             \n",
    "#  Postorder (Left, Right, Root) \n",
    "def printPostorder(root, method = \"recursion\"):\n",
    "    \n",
    "    if method == \"recursion\":\n",
    "        if root:\n",
    "            printPostorder(root.left)\n",
    "            printPostorder(root.right)\n",
    "            print(root.data)\n",
    "    elif method == \"stack\":\n",
    "        if root is None:\n",
    "            return         \n",
    "        s1 = []\n",
    "        s2 = []\n",
    "        s1.append(root)\n",
    "        while (len(s1) >0):\n",
    "            node = s1.pop()\n",
    "            s2.append(node)\n",
    "            if node.left is not None:\n",
    "                s1.append(node.left)\n",
    "            if node.right is not None :\n",
    "                s1.append(node.right)\n",
    "        while(len(s2) > 0):\n",
    "            node = s2.pop()\n",
    "            print(node.data)\n",
    "            \n",
    "# Preorder (Root, Left, Right)\n",
    "def printPreorder(root, method = \"stack\"):\n",
    "    if method == \"recursion\":\n",
    "        if root:\n",
    "            print(root.data)\n",
    "            printPreorder(root.left)\n",
    "            printPreorder(root.right)\n",
    "    elif method == \"stack\":\n",
    "        stack = []\n",
    "        stack.append(root)\n",
    "        while len(stack) > 0:\n",
    "            current = stack.pop()\n",
    "            print(current.data)\n",
    "            if current.right is not None:\n",
    "                stack.append(current.right)\n",
    "            if current.left is not None:\n",
    "                stack.append(current.left)\n",
    "        \n",
    "def printLevelOrder(root):\n",
    "    if root is None:\n",
    "        return\n",
    "    queue = []\n",
    "    queue.append(root)\n",
    "    while(len(queue) > 0):\n",
    "        node = queue.pop()\n",
    "        print(node.data)\n",
    "        if node.left is not None:\n",
    "            queue.insert(0, node.left)\n",
    "        if node.right is not None:\n",
    "            queue.insert(0, node.right)"
   ]
  },
  {
   "cell_type": "code",
   "execution_count": 40,
   "metadata": {
    "collapsed": false
   },
   "outputs": [
    {
     "name": "stdout",
     "output_type": "stream",
     "text": [
      "Level Order Traversal of binary tree is -\n",
      "1\n",
      "2\n",
      "3\n",
      "4\n",
      "5\n",
      "In order Traversal of binary tree is -\n",
      "4\n",
      "2\n",
      "5\n",
      "1\n",
      "3\n",
      "Pre order Traversal of binary tree is -\n",
      "1\n",
      "2\n",
      "4\n",
      "5\n",
      "3\n",
      "Post order Traversal of binary tree is -\n",
      "4\n",
      "5\n",
      "2\n",
      "3\n",
      "1\n"
     ]
    }
   ],
   "source": [
    "#Driver Program to test above function\n",
    "root = Node(1)\n",
    "root.left = Node(2)\n",
    "root.right = Node(3)\n",
    "root.left.left = Node(4)\n",
    "root.left.right = Node(5)\n",
    " \n",
    "print(\"Level Order Traversal of binary tree is -\")\n",
    "printLevelOrder(root)\n",
    "\n",
    "print(\"In order Traversal of binary tree is -\")\n",
    "printInorder(root, method = \"recursion\")\n",
    "\n",
    "print(\"Pre order Traversal of binary tree is -\")\n",
    "printPreorder(root, method = \"recursion\")\n",
    "\n",
    "print(\"Post order Traversal of binary tree is -\")\n",
    "printPostorder(root, method = \"stack\")"
   ]
  },
  {
   "cell_type": "code",
   "execution_count": 42,
   "metadata": {
    "collapsed": false
   },
   "outputs": [],
   "source": [
    "# Python program to print DFS traversal for complete graph\n",
    "from collections import defaultdict\n",
    " \n",
    "# This class represents a directed graph using adjacency\n",
    "# list representation\n",
    "class Graph:\n",
    " \n",
    "    # Constructor\n",
    "    def __init__(self):\n",
    " \n",
    "        # default dictionary to store graph\n",
    "        self.graph = defaultdict(list)\n",
    " \n",
    "    # function to add an edge to graph\n",
    "    def addEdge(self,u,v):\n",
    "        self.graph[u].append(v)\n",
    " \n",
    "    # A function used by DFS\n",
    "    def DFSUtil(self, v, visited):\n",
    " \n",
    "        # Mark the current node as visited and print it\n",
    "        visited[v]= True\n",
    "        print(v)\n",
    " \n",
    "        # Recur for all the vertices adjacent to\n",
    "        # this vertex\n",
    "        for i in self.graph[v]:\n",
    "            if visited[i] == False:\n",
    "                self.DFSUtil(i, visited)\n",
    " \n",
    " \n",
    "    # The function to do DFS traversal. It uses\n",
    "    # recursive DFSUtil()\n",
    "    def DFS(self):\n",
    "        V = len(self.graph)  #total vertices\n",
    " \n",
    "        # Mark all the vertices as not visited\n",
    "        visited =[False]*(V)\n",
    " \n",
    "        # Call the recursive helper function to print\n",
    "        # DFS traversal starting from all vertices one\n",
    "        # by one\n",
    "        for i in range(V):\n",
    "            if visited[i] == False:\n",
    "                self.DFSUtil(i, visited)"
   ]
  },
  {
   "cell_type": "code",
   "execution_count": 44,
   "metadata": {
    "collapsed": false
   },
   "outputs": [
    {
     "data": {
      "text/plain": [
       "defaultdict(list, {0: [1, 2], 1: [2], 2: [0, 3], 3: [3]})"
      ]
     },
     "execution_count": 44,
     "metadata": {},
     "output_type": "execute_result"
    }
   ],
   "source": [
    "g = Graph()\n",
    "g.addEdge(0, 1)\n",
    "g.addEdge(0, 2)\n",
    "g.addEdge(1, 2)\n",
    "g.addEdge(2, 0)\n",
    "g.addEdge(2, 3)\n",
    "g.addEdge(3, 3)\n",
    " \n",
    "#print \"Following is Depth First Traversal\"\n",
    "#g.DFS()\n",
    "g.graph"
   ]
  },
  {
   "cell_type": "markdown",
   "metadata": {},
   "source": [
    "Q1: Write a function to check whether a binary tree is balanced i.e. the height of teo subtrees on right and left side of each node do not differ more than 1"
   ]
  },
  {
   "cell_type": "markdown",
   "metadata": {},
   "source": [
    "Q2: Given a directed graph, write an algorithm t find whether there is a path between two nodes"
   ]
  },
  {
   "cell_type": "markdown",
   "metadata": {},
   "source": [
    "Q3: Given a sorted array with unique integer elements, write an algorithm to create a binary search tree"
   ]
  },
  {
   "cell_type": "markdown",
   "metadata": {},
   "source": [
    "Q4: Implement an algorithm to check whether a binary tree is a binary search tree"
   ]
  },
  {
   "cell_type": "markdown",
   "metadata": {},
   "source": [
    "Q5: Find the first common ancestor of two nodes in a binary tree"
   ]
  },
  {
   "cell_type": "markdown",
   "metadata": {},
   "source": [
    "Q6: Having two trees, determine whether T2 is a subtree of T1"
   ]
  },
  {
   "cell_type": "markdown",
   "metadata": {},
   "source": [
    "Q7: You are given a binary tree in which each nide contains a vlaue. Design an algorithm to print all paths which sum to a given value. "
   ]
  }
 ],
 "metadata": {
  "anaconda-cloud": {},
  "kernelspec": {
   "display_name": "Python [conda root]",
   "language": "python",
   "name": "conda-root-py"
  },
  "language_info": {
   "codemirror_mode": {
    "name": "ipython",
    "version": 3
   },
   "file_extension": ".py",
   "mimetype": "text/x-python",
   "name": "python",
   "nbconvert_exporter": "python",
   "pygments_lexer": "ipython3",
   "version": "3.5.2"
  }
 },
 "nbformat": 4,
 "nbformat_minor": 1
}
