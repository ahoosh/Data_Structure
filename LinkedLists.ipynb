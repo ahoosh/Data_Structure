{
 "cells": [
  {
   "cell_type": "markdown",
   "metadata": {},
   "source": [
    "The Linked list implementation in Oython is shown below:"
   ]
  },
  {
   "cell_type": "code",
   "execution_count": 1,
   "metadata": {
    "collapsed": true
   },
   "outputs": [],
   "source": [
    "class Node:\n",
    "    def __init__(self, init_data):\n",
    "        self.data = init_data\n",
    "        self.next = None\n",
    "        \n",
    "    def get_data(self):\n",
    "        return self.data\n",
    "\n",
    "    def get_next(self):\n",
    "        return self.next\n",
    "    \n",
    "    def set_data(self, new_data):\n",
    "        self.data = newdata\n",
    "    \n",
    "    def set_next(self, new_next):\n",
    "        self.next = new_next\n"
   ]
  },
  {
   "cell_type": "code",
   "execution_count": 2,
   "metadata": {
    "collapsed": true
   },
   "outputs": [],
   "source": [
    "class UnorderedList:\n",
    "    \n",
    "    def __init__(self):\n",
    "        self.head = None\n",
    "        \n",
    "    def is_empty(self):\n",
    "        return self.head == None\n",
    "    \n",
    "    def add(self, item):\n",
    "        temp = Node(item)\n",
    "        temp.set_next(self.head)\n",
    "        self.head = temp\n",
    "        \n",
    "    def size(self):\n",
    "        current = self.head\n",
    "        count = 0\n",
    "        while current != None:\n",
    "            count = count + 1\n",
    "            current = current.get_next()\n",
    "        return count\n",
    "    \n",
    "    def search(self,item):\n",
    "        current = self.head\n",
    "        found = False\n",
    "        while current != None and not found:\n",
    "            if current.get_data() == item:\n",
    "                found = True\n",
    "            else:\n",
    "                current = current.get_next()\n",
    "        return found\n",
    "    \n",
    "    def remove(self, item):\n",
    "        current = self.head\n",
    "        previous = None\n",
    "        found = False\n",
    "        while not found:\n",
    "            if current.get_data() == item:\n",
    "                found = True\n",
    "            else:\n",
    "                previous = current\n",
    "                current = current.get_next()\n",
    "        if previous == None:\n",
    "            self.head = current.get_next()\n",
    "        else:\n",
    "            previous.set_next(current.get_next())\n",
    "            \n",
    "    def list_print(self):\n",
    "        current = self.head\n",
    "        s = \"\"\n",
    "        while current:\n",
    "            s += str(current.get_data()) + \" -> \" # This is an inefficient way of adding characters to a string!\n",
    "            current = current.get_next()\n",
    "        print(s[:-3])"
   ]
  },
  {
   "cell_type": "code",
   "execution_count": 3,
   "metadata": {
    "collapsed": true
   },
   "outputs": [],
   "source": [
    "class OrderedList:\n",
    "    \n",
    "    def __init__(self):\n",
    "        self.head = None\n",
    "        \n",
    "    def search(self, item):\n",
    "        current = self.head\n",
    "        found = False\n",
    "        stop = False\n",
    "        while current != None and not found and not stop:\n",
    "            if current.get_data() == item:\n",
    "                found = True\n",
    "            else:\n",
    "                if current.get_data() > item:\n",
    "                    stop = True\n",
    "                else:\n",
    "                    current = current.get_next()\n",
    "        return found\n",
    "    \n",
    "    def add(self, item):\n",
    "        current = self.head\n",
    "        previous = None\n",
    "        stop = False\n",
    "        while current != None and not stop:\n",
    "            if current.get_data() > item:\n",
    "                stop = True\n",
    "            else:\n",
    "                previous = current\n",
    "                current = current.get_next()\n",
    "        temp = Node(item)\n",
    "        if previous == None:\n",
    "            temp.set_next(self.head)\n",
    "            self.head = temp\n",
    "        else:\n",
    "            temp.set_next(current)\n",
    "            previous.set_next(temp)"
   ]
  },
  {
   "cell_type": "markdown",
   "metadata": {},
   "source": [
    "Q1: Write code to remove the duplicates from unsorted linked lists. How can you solve this if a tempraty buffer is not allowed?"
   ]
  },
  {
   "cell_type": "code",
   "execution_count": 45,
   "metadata": {
    "collapsed": true
   },
   "outputs": [],
   "source": [
    "# Last modification: 05/07/2017\n",
    "def removeDups(head):\n",
    "    current = second = head.head\n",
    "    while current is not None:\n",
    "        while second.next is not None:  \n",
    "            if second.next.data == current.data:   \n",
    "                second.next = second.next.next  \n",
    "            else:\n",
    "                second = second.next\n",
    "        current = second = current.next"
   ]
  },
  {
   "cell_type": "code",
   "execution_count": 46,
   "metadata": {
    "collapsed": false
   },
   "outputs": [
    {
     "name": "stdout",
     "output_type": "stream",
     "text": [
      "7 -> 1 -> 3 -> 5 -> 2 -> 1 \n",
      "7 -> 1 -> 3 -> 5 -> 2 \n"
     ]
    }
   ],
   "source": [
    "test = UnorderedList()\n",
    "test.add(1)\n",
    "test.add(2)\n",
    "test.add(5)\n",
    "test.add(3)\n",
    "test.add(1)\n",
    "test.add(7)\n",
    "test.list_print()\n",
    "removeDups(test)\n",
    "test.list_print()"
   ]
  },
  {
   "cell_type": "markdown",
   "metadata": {},
   "source": [
    "Q2: Implement an algorithm to find the kth to last element of a singly linked list."
   ]
  },
  {
   "cell_type": "code",
   "execution_count": 48,
   "metadata": {
    "collapsed": true
   },
   "outputs": [],
   "source": [
    "def find_kth_to_last_element(head, k):\n",
    "    current = second = head.head\n",
    "    count = 0\n",
    "    while second is not None:\n",
    "        count += 1\n",
    "        second = second.next\n",
    "    for i in range(count - k - 1):\n",
    "        current = current.next\n",
    "    return(current.data)"
   ]
  },
  {
   "cell_type": "code",
   "execution_count": 49,
   "metadata": {
    "collapsed": false
   },
   "outputs": [
    {
     "data": {
      "text/plain": [
       "5"
      ]
     },
     "execution_count": 49,
     "metadata": {},
     "output_type": "execute_result"
    }
   ],
   "source": [
    "test = UnorderedList()\n",
    "test.add(1)\n",
    "test.add(2)\n",
    "test.add(5)\n",
    "test.add(3)\n",
    "test.add(1)\n",
    "test.add(7)\n",
    "find_kth_to_last_element(test, 2)"
   ]
  },
  {
   "cell_type": "markdown",
   "metadata": {},
   "source": [
    "Q3: Implement an algorithm in the middle of a singly linked list, given only access to that node."
   ]
  },
  {
   "cell_type": "markdown",
   "metadata": {},
   "source": [
    "Q4: Write code to partition a linked list around a value x, such that all nodes less than x come before all nodes greater than or equal to x"
   ]
  },
  {
   "cell_type": "markdown",
   "metadata": {},
   "source": [
    "Q5: Add two numbers represented by linked lists and report the result as a linked list\n",
    "A) (7 -> 1 -> 6) + (5 -> 9 -> 2) = 617 + 295 = 912 = (2 -> 1 -> 9)\n",
    "B) The other way (6 -> 1 -> 7) + (2 -> 9 -> 5) = 617 + 295 = 912 = (9 -> 1 -> 2)"
   ]
  },
  {
   "cell_type": "markdown",
   "metadata": {},
   "source": [
    "Q6: Given a circular linked list, implement an algorithm which returns the node at the beginning if the loop.\n",
    "Input: A -> B -> C -> D -> E -> C (same C)\n",
    "Output: C\n"
   ]
  },
  {
   "cell_type": "code",
   "execution_count": 34,
   "metadata": {
    "collapsed": true
   },
   "outputs": [],
   "source": [
    "def find_loop_starting_point(head):\n",
    "    if head.head == None:\n",
    "        return None\n",
    "    slow = fast = head.head\n",
    "    #fast = fast.next\n",
    "    while fast != None and fast.next != None:\n",
    "        fast = fast.next.next\n",
    "        slow = slow.next\n",
    "        if fast == slow:\n",
    "            # get the loop length\n",
    "            loop_length = 1\n",
    "            fast = fast.next\n",
    "            while fast != slow:\n",
    "                fast = fast.next\n",
    "                loop_length += 1\n",
    "            start = loop = head.head\n",
    "            for i in range(loop_length): # placing a pointer inside the loop\n",
    "                loop = loop.next\n",
    "            while loop != start: # \n",
    "                loop = loop.next\n",
    "                start = start.next\n",
    "            return start.data\n",
    "    return None\n",
    "    \n",
    "# Useful links\n",
    "# http://stackoverflow.com/questions/10275587/finding-loop-in-a-singly-linked-list\n",
    "# https://github.com/kamyu104/LeetCode/blob/master/Python/palindrome-linked-list.py"
   ]
  },
  {
   "cell_type": "code",
   "execution_count": 37,
   "metadata": {
    "collapsed": false
   },
   "outputs": [
    {
     "name": "stdout",
     "output_type": "stream",
     "text": [
      "3\n"
     ]
    }
   ],
   "source": [
    "test = UnorderedList()\n",
    "test.add(1)\n",
    "test.add(2)\n",
    "test.add(5)\n",
    "test.add(3)\n",
    "test.add(7)\n",
    "test.head.next.next.next.next.next = test.head.next # Making a loop\n",
    "x = find_loop_starting_point(test)\n",
    "print(x)"
   ]
  },
  {
   "cell_type": "markdown",
   "metadata": {},
   "source": [
    "Q7: Implement a function to determine if a linked list is a palindrome."
   ]
  },
  {
   "cell_type": "code",
   "execution_count": 67,
   "metadata": {
    "collapsed": true
   },
   "outputs": [],
   "source": [
    "def is_palindrome(head):\n",
    "    rev = None\n",
    "    slow = fast = head.head\n",
    "    while fast and fast.next:\n",
    "        fast = fast.next.next\n",
    "        #rev, rev.next, slow = slow, rev, slow.next\n",
    "        temp = slow\n",
    "        slow = temp.next\n",
    "        temp.next = rev\n",
    "        rev = temp\n",
    "    if fast:\n",
    "        slow = slow.next\n",
    "    while rev and rev.data == slow.data:\n",
    "        slow = slow.next\n",
    "        rev = rev.next\n",
    "    return rev == None"
   ]
  },
  {
   "cell_type": "code",
   "execution_count": 68,
   "metadata": {
    "collapsed": false
   },
   "outputs": [
    {
     "data": {
      "text/plain": [
       "True"
      ]
     },
     "execution_count": 68,
     "metadata": {},
     "output_type": "execute_result"
    }
   ],
   "source": [
    "test = UnorderedList()\n",
    "test.add(1)\n",
    "test.add(2)\n",
    "test.add(5)\n",
    "test.add(5)\n",
    "test.add(2)\n",
    "test.add(1)\n",
    "is_palindrome(test)"
   ]
  },
  {
   "cell_type": "markdown",
   "metadata": {},
   "source": [
    "Q8: Reverse a linked list:"
   ]
  },
  {
   "cell_type": "code",
   "execution_count": null,
   "metadata": {
    "collapsed": true
   },
   "outputs": [],
   "source": [
    "def reverse_list(head):\n",
    "    new_head = None  # this is where we build the reversed list (reusing the existing nodes)\n",
    "    while head:\n",
    "        temp = head  # temp is a reference to a node we're moving from one list to the other\n",
    "        head = temp.next  # the first two assignments pop the node off the front of the list\n",
    "        temp.next = new_head  # the next two make it the new head of the reversed list\n",
    "        new_head = temp\n",
    "    return new_head"
   ]
  }
 ],
 "metadata": {
  "anaconda-cloud": {},
  "kernelspec": {
   "display_name": "Python [conda root]",
   "language": "python",
   "name": "conda-root-py"
  },
  "language_info": {
   "codemirror_mode": {
    "name": "ipython",
    "version": 3
   },
   "file_extension": ".py",
   "mimetype": "text/x-python",
   "name": "python",
   "nbconvert_exporter": "python",
   "pygments_lexer": "ipython3",
   "version": "3.5.2"
  }
 },
 "nbformat": 4,
 "nbformat_minor": 1
}
