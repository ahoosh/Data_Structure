{
 "cells": [
  {
   "cell_type": "markdown",
   "metadata": {},
   "source": []
  },
  {
   "cell_type": "code",
   "execution_count": null,
   "metadata": {
    "collapsed": true
   },
   "outputs": [],
   "source": []
  },
  {
   "cell_type": "markdown",
   "metadata": {},
   "source": [
    "Q1: Implement and algorithm to determine if a string has all unique characters. What if you cannot use additional space? (CIC)"
   ]
  },
  {
   "cell_type": "code",
   "execution_count": 13,
   "metadata": {
    "collapsed": false
   },
   "outputs": [],
   "source": [
    "# Last modification: 05/04/2017\n",
    "def unique_characters_O_n_time(s, method = \"set1\"):\n",
    "    n = len(s)\n",
    "    if n > 256: #ASCII characters\n",
    "        return False\n",
    "    if method == \"set1\": #\n",
    "        return len(set(s)) == n\n",
    "    elif method == \"set2\":\n",
    "        result = set()\n",
    "        for ch in s:\n",
    "            if ch in result:\n",
    "                return False\n",
    "            result.add(ch)\n",
    "        return True\n",
    "    elif method == \"dic\":\n",
    "        result = {}\n",
    "        for ch in s:\n",
    "            if ch in result.keys():\n",
    "                return False\n",
    "            else:\n",
    "                result[ch] = 1\n",
    "        return True\n",
    "    elif method == \"O1Space\":\n",
    "        for i in range(n):\n",
    "            for j in range(i+1,n):\n",
    "                if s[i] == s[j]:\n",
    "                    return False\n",
    "        return True"
   ]
  },
  {
   "cell_type": "code",
   "execution_count": null,
   "metadata": {
    "collapsed": true
   },
   "outputs": [],
   "source": []
  }
 ],
 "metadata": {
  "anaconda-cloud": {},
  "kernelspec": {
   "display_name": "Python [conda root]",
   "language": "python",
   "name": "conda-root-py"
  },
  "language_info": {
   "codemirror_mode": {
    "name": "ipython",
    "version": 3
   },
   "file_extension": ".py",
   "mimetype": "text/x-python",
   "name": "python",
   "nbconvert_exporter": "python",
   "pygments_lexer": "ipython3",
   "version": "3.5.2"
  }
 },
 "nbformat": 4,
 "nbformat_minor": 1
}
